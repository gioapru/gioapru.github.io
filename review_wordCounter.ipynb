{
 "cells": [
  {
   "cell_type": "code",
   "execution_count": 1,
   "metadata": {
    "collapsed": true
   },
   "outputs": [],
   "source": [
    "from odf import text, teletype\n",
    "from odf.opendocument import load\n",
    "from os import listdir\n",
    "from os.path import isfile, join\n",
    "import math"
   ]
  },
  {
   "cell_type": "code",
   "execution_count": 2,
   "outputs": [],
   "source": [
    "def get_lettersWords(allparas):\n",
    "    letters = 0\n",
    "    words = 0\n",
    "    for i in range(len(allparas)):\n",
    "        line = teletype.extractText(allparas[i])\n",
    "        letters += len(line)\n",
    "        temp_words = line.split(\" \")\n",
    "        words += len(temp_words)\n",
    "    return letters, words"
   ],
   "metadata": {
    "collapsed": false
   }
  },
  {
   "cell_type": "code",
   "execution_count": 3,
   "outputs": [],
   "source": [
    "# get all files\n",
    "\n",
    "root = \"path\"\n",
    "onlyfiles = [f for f in listdir(root) if isfile(join(root, f))]\n",
    "only_odt = [f for f in onlyfiles if \".odt\" in f]"
   ],
   "metadata": {
    "collapsed": false
   }
  },
  {
   "cell_type": "code",
   "execution_count": 4,
   "outputs": [
    {
     "name": "stdout",
     "output_type": "stream",
     "text": [
      "Total letters: 1161851\n",
      "Total words: 184857\n",
      "Total files: 179\n",
      "Avg letters: 6491\n",
      "Avg words: 1033\n"
     ]
    }
   ],
   "source": [
    "tot_letters = 0\n",
    "tot_words = 0\n",
    "tot_files = len(only_odt)\n",
    "for odt in only_odt:\n",
    "    filename = root + odt\n",
    "    textdoc = load(filename)\n",
    "    allparas = textdoc.getElementsByType(text.P)\n",
    "    letters, words = get_lettersWords(allparas)\n",
    "    tot_letters += letters\n",
    "    tot_words += words\n",
    "\n",
    "print(\"Total letters: {}\".format(tot_letters))\n",
    "print(\"Total words: {}\".format(tot_words))\n",
    "print(\"Total files: {}\".format(tot_files))\n",
    "avg_letters = math.ceil(tot_letters / tot_files)\n",
    "avg_words = math.ceil(tot_words / tot_files)\n",
    "\n",
    "print(\"Avg letters: {}\".format(avg_letters))\n",
    "print(\"Avg words: {}\".format(avg_words))"
   ],
   "metadata": {
    "collapsed": false
   }
  },
  {
   "cell_type": "code",
   "execution_count": null,
   "outputs": [],
   "source": [],
   "metadata": {
    "collapsed": false
   }
  }
 ],
 "metadata": {
  "kernelspec": {
   "display_name": "Python 3",
   "language": "python",
   "name": "python3"
  },
  "language_info": {
   "codemirror_mode": {
    "name": "ipython",
    "version": 2
   },
   "file_extension": ".py",
   "mimetype": "text/x-python",
   "name": "python",
   "nbconvert_exporter": "python",
   "pygments_lexer": "ipython2",
   "version": "2.7.6"
  }
 },
 "nbformat": 4,
 "nbformat_minor": 0
}

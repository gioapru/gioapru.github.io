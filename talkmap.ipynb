{
 "cells": [
  {
   "cell_type": "markdown",
   "metadata": {},
   "source": [
    "# Leaflet cluster map of talk locations\n",
    "\n",
    "Run this from the _talks/ directory, which contains .md files of all your talks. This scrapes the location YAML field from each .md file, geolocates it with geopy/Nominatim, and uses the getorg library to output data, HTML, and Javascript for a standalone cluster map."
   ]
  },
  {
   "cell_type": "code",
   "execution_count": 1,
   "metadata": {
    "collapsed": false,
    "ExecuteTime": {
     "end_time": "2023-11-20T00:19:40.406503200Z",
     "start_time": "2023-11-20T00:19:39.503567Z"
    }
   },
   "outputs": [
    {
     "name": "stdout",
     "output_type": "stream",
     "text": [
      "IPywidgets and ipyleaflet support enabled.\n"
     ]
    }
   ],
   "source": [
    "# !pip install getorg --upgrade\n",
    "import glob\n",
    "import getorg\n",
    "from geopy import Nominatim\n",
    "import ipyleaflet"
   ]
  },
  {
   "cell_type": "code",
   "execution_count": 2,
   "metadata": {
    "collapsed": false,
    "ExecuteTime": {
     "end_time": "2023-11-20T00:19:41.422794800Z",
     "start_time": "2023-11-20T00:19:41.405780700Z"
    }
   },
   "outputs": [],
   "source": [
    "g = glob.glob(\"_talks/*.md\")"
   ]
  },
  {
   "cell_type": "code",
   "execution_count": 3,
   "metadata": {
    "ExecuteTime": {
     "end_time": "2023-11-20T00:19:44.988573300Z",
     "start_time": "2023-11-20T00:19:42.163517500Z"
    }
   },
   "outputs": [
    {
     "name": "stdout",
     "output_type": "stream",
     "text": [
      "Stockholm, Sweden \n",
      " Stockholms kommun, Solna kommun, Stockholms län, Sverige\n",
      "Athens, Greece \n",
      " Αθήνα, Δήμος Αθηναίων, Περιφερειακή Ενότητα Κεντρικού Τομέα Αθηνών, Περιφέρεια Αττικής, Αποκεντρωμένη Διοίκηση Αττικής, 105 57, Ελλάς\n",
      "Palma, Spain \n",
      " Palma, Illes Balears, España\n",
      "Paris, France \n",
      " Paris, Île-de-France, France métropolitaine, France\n",
      "The Hague, Netherlands \n",
      " Den Haag, Zuid-Holland, Nederland\n",
      "Lausanne, Switzerland \n",
      " Lausanne, District de Lausanne, Vaud, Schweiz/Suisse/Svizzera/Svizra\n"
     ]
    }
   ],
   "source": [
    "geocoder = Nominatim(user_agent='academic_pages')\n",
    "location_dict = {}\n",
    "location = \"\"\n",
    "permalink = \"\"\n",
    "title = \"\"\n",
    "\n",
    "asgard = ['Stockholm, Sweden', 'Athens, Greece', 'Palma, Spain', 'Paris, France', 'The Hague, Netherlands']\n",
    "for c in asgard:\n",
    "    location_dict[c] = geocoder.geocode(c)\n",
    "    print(c, \"\\n\", location_dict[c])\n",
    "\n",
    "satml = ['Lausanne, Switzerland']\n",
    "for c in satml:\n",
    "    location_dict[c] = geocoder.geocode(c)\n",
    "    print(c, \"\\n\", location_dict[c])"
   ]
  },
  {
   "cell_type": "code",
   "execution_count": 4,
   "metadata": {
    "collapsed": false,
    "ExecuteTime": {
     "end_time": "2023-11-20T00:19:54.479037800Z",
     "start_time": "2023-11-20T00:19:44.989574200Z"
    }
   },
   "outputs": [
    {
     "name": "stdout",
     "output_type": "stream",
     "text": [
      "Austin, TX, USA \n",
      " Austin, Travis County, Texas, United States\n",
      "skip\n",
      "Europe \n",
      " أوروبا\n",
      "skip\n",
      "skip\n",
      "Dagstuhl, Germany \n",
      " Dagstuhl, Wadern, Landkreis Merzig-Wadern, Saarland, 66687, Deutschland\n",
      "Dartmouth College, Hanover, NH, USA \n",
      " Dartmouth College, College Street, Hanover, Grafton County, New Hampshire, 03755, United States\n",
      "San Francisco, California, USA \n",
      " San Francisco, California, United States\n",
      "Barcelona, Spain \n",
      " Barcelona, Barcelonès, Barcelona, Catalunya, 08001, España\n",
      "The Hague, Netherlands \n",
      " Den Haag, Zuid-Holland, Nederland\n",
      "Genoa, Italy \n",
      " Genova, Liguria, Italia\n",
      "Delft, Netherlands \n",
      " Delft, Zuid-Holland, Nederland\n",
      "Austin, TX, USA \n",
      " Austin, Travis County, Texas, United States\n",
      "skip\n",
      "Padua, Italy \n",
      " Padova, Veneto, 35121-35143, Italia\n",
      "Cambridge, MA, USA \n",
      " Cambridge, Middlesex County, Massachusetts, United States\n",
      "Cambridge, MA, USA \n",
      " Cambridge, Middlesex County, Massachusetts, United States\n",
      "Raleigh, NC, USA \n",
      " Raleigh, Wake County, North Carolina, United States\n",
      "Delft, Netherlands \n",
      " Delft, Zuid-Holland, Nederland\n",
      "Bologna, Italy \n",
      " Bologna, Emilia-Romagna, Italia\n",
      "Genoa, Italy \n",
      " Genova, Liguria, Italia\n",
      "Modena, Italy \n",
      " Modena, Emilia-Romagna, Italia\n",
      "Padua, Italy \n",
      " Padova, Veneto, 35121-35143, Italia\n"
     ]
    }
   ],
   "source": [
    "for file in g:\n",
    "    with open(file, 'r', encoding=\"utf8\") as f:\n",
    "        lines = f.read()\n",
    "        if lines.find('location: \"') > 1:\n",
    "            loc_start = lines.find('location: \"') + 11\n",
    "            lines_trim = lines[loc_start:]\n",
    "            loc_end = lines_trim.find('\"')\n",
    "            if (lines_trim[:loc_end] == \"Virtual\"):\n",
    "                print(\"skip\")\n",
    "                continue\n",
    "            location = lines_trim[:loc_end]\n",
    "            \n",
    "                            \n",
    "           \n",
    "        location_dict[location] = geocoder.geocode(location)\n",
    "        print(location, \"\\n\", location_dict[location])\n"
   ]
  },
  {
   "cell_type": "code",
   "execution_count": 5,
   "metadata": {
    "collapsed": false,
    "ExecuteTime": {
     "end_time": "2023-11-20T00:19:54.523576700Z",
     "start_time": "2023-11-20T00:19:54.479538100Z"
    }
   },
   "outputs": [
    {
     "data": {
      "text/plain": "'Written map to ./talkmap/'"
     },
     "execution_count": 5,
     "metadata": {},
     "output_type": "execute_result"
    }
   ],
   "source": [
    "m = getorg.orgmap.create_map_obj()\n",
    "getorg.orgmap.output_html_cluster_map(location_dict, folder_name=\"./talkmap\", hashed_usernames=False)"
   ]
  },
  {
   "cell_type": "code",
   "execution_count": null,
   "metadata": {},
   "outputs": [],
   "source": []
  }
 ],
 "metadata": {
  "anaconda-cloud": {},
  "kernelspec": {
   "display_name": "Python 3",
   "language": "python",
   "name": "python3"
  },
  "language_info": {
   "codemirror_mode": {
    "name": "ipython",
    "version": 3
   },
   "file_extension": ".py",
   "mimetype": "text/x-python",
   "name": "python",
   "nbconvert_exporter": "python",
   "pygments_lexer": "ipython3",
   "version": "3.8.3"
  }
 },
 "nbformat": 4,
 "nbformat_minor": 4
}

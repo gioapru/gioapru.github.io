{
 "cells": [
  {
   "cell_type": "markdown",
   "metadata": {},
   "source": [
    "# Leaflet cluster map of talk locations\n",
    "\n",
    "Run this from the _talks/ directory, which contains .md files of all your talks. This scrapes the location YAML field from each .md file, geolocates it with geopy/Nominatim, and uses the getorg library to output data, HTML, and Javascript for a standalone cluster map."
   ]
  },
  {
   "cell_type": "code",
   "metadata": {
    "collapsed": false,
    "ExecuteTime": {
     "end_time": "2024-11-22T16:54:12.462929Z",
     "start_time": "2024-11-22T16:54:11.955955Z"
    }
   },
   "source": [
    "# !pip install getorg --upgrade\n",
    "import glob\n",
    "import getorg\n",
    "from geopy import Nominatim\n",
    "import ipyleaflet"
   ],
   "outputs": [
    {
     "name": "stdout",
     "output_type": "stream",
     "text": [
      "IPywidgets and ipyleaflet support enabled.\n"
     ]
    }
   ],
   "execution_count": 1
  },
  {
   "cell_type": "code",
   "metadata": {
    "collapsed": false,
    "ExecuteTime": {
     "end_time": "2024-11-22T16:54:14.472871Z",
     "start_time": "2024-11-22T16:54:14.465949Z"
    }
   },
   "source": [
    "g = glob.glob(\"_talks/*.md\")"
   ],
   "outputs": [],
   "execution_count": 2
  },
  {
   "cell_type": "code",
   "metadata": {
    "ExecuteTime": {
     "end_time": "2024-11-22T16:54:19.494247Z",
     "start_time": "2024-11-22T16:54:15.629190Z"
    }
   },
   "source": [
    "geocoder = Nominatim(user_agent='academic_pages')\n",
    "location_dict = {}\n",
    "location = \"\"\n",
    "permalink = \"\"\n",
    "title = \"\"\n",
    "\n",
    "asgard = ['Stockholm, Sweden', 'Athens, Greece', 'Palma, Spain', 'Paris, France', 'The Hague, Netherlands']\n",
    "for c in asgard:\n",
    "    location_dict[c] = geocoder.geocode(c)\n",
    "    print(c, \"\\n\", location_dict[c])\n",
    "\n",
    "satml = ['Lausanne, Switzerland', 'Rennes, France']\n",
    "for c in satml:\n",
    "    location_dict[c] = geocoder.geocode(c)\n",
    "    print(c, \"\\n\", location_dict[c])"
   ],
   "outputs": [
    {
     "name": "stdout",
     "output_type": "stream",
     "text": [
      "Stockholm, Sweden \n",
      " Stockholm, Stockholms kommun, Stockholms län, 111 29, Sverige\n",
      "Athens, Greece \n",
      " Αθήνα, Δήμος Αθηναίων, Περιφερειακή Ενότητα Κεντρικού Τομέα Αθηνών, Περιφέρεια Αττικής, Αποκεντρωμένη Διοίκηση Αττικής, 105 57, Ελλάς\n",
      "Palma, Spain \n",
      " Palma, Illes Balears, España\n",
      "Paris, France \n",
      " Paris, Île-de-France, France métropolitaine, France\n",
      "The Hague, Netherlands \n",
      " Den Haag, Zuid-Holland, Nederland\n",
      "Lausanne, Switzerland \n",
      " Lausanne, District de Lausanne, Vaud, Schweiz/Suisse/Svizzera/Svizra\n",
      "Rennes, France \n",
      " Rennes, Ille-et-Vilaine, Bretagne, France métropolitaine, France\n"
     ]
    }
   ],
   "execution_count": 3
  },
  {
   "cell_type": "code",
   "metadata": {
    "collapsed": false,
    "ExecuteTime": {
     "end_time": "2024-11-22T16:54:32.233413Z",
     "start_time": "2024-11-22T16:54:19.495247Z"
    }
   },
   "source": [
    "for file in g:\n",
    "    with open(file, 'r', encoding=\"utf8\") as f:\n",
    "        lines = f.read()\n",
    "        if lines.find('location: \"') > 1:\n",
    "            loc_start = lines.find('location: \"') + 11\n",
    "            lines_trim = lines[loc_start:]\n",
    "            loc_end = lines_trim.find('\"')\n",
    "            if (lines_trim[:loc_end] == \"Virtual\"):\n",
    "                print(\"skip\")\n",
    "                continue\n",
    "            location = lines_trim[:loc_end]\n",
    "            \n",
    "                            \n",
    "           \n",
    "        location_dict[location] = geocoder.geocode(location)\n",
    "        print(location, \"\\n\", location_dict[location])\n"
   ],
   "outputs": [
    {
     "name": "stdout",
     "output_type": "stream",
     "text": [
      "Austin, TX, USA \n",
      " Austin, Travis County, Texas, United States\n",
      "skip\n",
      "Salt Lake City, Utah, USA \n",
      " Salt Lake City, Salt Lake County, Utah, United States\n",
      "Europe \n",
      " Europe\n",
      "Milan, Italy \n",
      " Milano, Lombardia, Italia\n",
      "skip\n",
      "skip\n",
      "Dagstuhl, Germany \n",
      " Dagstuhl, Wadern, Landkreis Merzig-Wadern, Saarland, Deutschland\n",
      "Dartmouth College, Hanover, NH, USA \n",
      " Dartmouth Green, Hanover, Grafton County, New Hampshire, United States\n",
      "San Francisco, California, USA \n",
      " San Francisco, California, United States\n",
      "Barcelona, Spain \n",
      " Barcelona, Barcelonès, Barcelona, Catalunya, España\n",
      "Boston, MA, USA \n",
      " Boston, Suffolk County, Massachusetts, United States\n",
      "The Hague, Netherlands \n",
      " Den Haag, Zuid-Holland, Nederland\n",
      "Genoa, Italy \n",
      " Genova, Liguria, Italia\n",
      "Delft, Netherlands \n",
      " Delft, Zuid-Holland, Nederland\n",
      "Honolulu, HI, USA \n",
      " Honolulu, Honolulu County, Hawaii, United States\n",
      "Austin, TX, USA \n",
      " Austin, Travis County, Texas, United States\n",
      "skip\n",
      "Padua, Italy \n",
      " Padova, Veneto, 35121-35143, Italia\n",
      "Cambridge, MA, USA \n",
      " Cambridge, Middlesex County, Massachusetts, United States\n",
      "Cambridge, MA, USA \n",
      " Cambridge, Middlesex County, Massachusetts, United States\n",
      "Raleigh, NC, USA \n",
      " Raleigh, Wake County, North Carolina, United States\n",
      "Delft, Netherlands \n",
      " Delft, Zuid-Holland, Nederland\n",
      "Bologna, Italy \n",
      " Bologna, Emilia-Romagna, Italia\n",
      "Genoa, Italy \n",
      " Genova, Liguria, Italia\n",
      "Modena, Italy \n",
      " Modena, Emilia-Romagna, Italia\n",
      "Padua, Italy \n",
      " Padova, Veneto, 35121-35143, Italia\n"
     ]
    }
   ],
   "execution_count": 4
  },
  {
   "cell_type": "code",
   "metadata": {
    "collapsed": false,
    "ExecuteTime": {
     "end_time": "2024-11-22T16:54:32.252662Z",
     "start_time": "2024-11-22T16:54:32.234415Z"
    }
   },
   "source": [
    "m = getorg.orgmap.create_map_obj()\n",
    "getorg.orgmap.output_html_cluster_map(location_dict, folder_name=\"./talkmap\", hashed_usernames=False)"
   ],
   "outputs": [
    {
     "data": {
      "text/plain": [
       "'Written map to ./talkmap/'"
      ]
     },
     "execution_count": 5,
     "metadata": {},
     "output_type": "execute_result"
    }
   ],
   "execution_count": 5
  },
  {
   "cell_type": "code",
   "execution_count": null,
   "metadata": {},
   "outputs": [],
   "source": []
  }
 ],
 "metadata": {
  "anaconda-cloud": {},
  "kernelspec": {
   "display_name": "Python 3",
   "language": "python",
   "name": "python3"
  },
  "language_info": {
   "codemirror_mode": {
    "name": "ipython",
    "version": 3
   },
   "file_extension": ".py",
   "mimetype": "text/x-python",
   "name": "python",
   "nbconvert_exporter": "python",
   "pygments_lexer": "ipython3",
   "version": "3.8.3"
  }
 },
 "nbformat": 4,
 "nbformat_minor": 4
}

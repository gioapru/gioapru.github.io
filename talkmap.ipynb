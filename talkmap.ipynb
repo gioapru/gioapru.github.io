{
 "cells": [
  {
   "cell_type": "markdown",
   "metadata": {},
   "source": [
    "# Leaflet cluster map of talk locations\n",
    "\n",
    "Run this from the _talks/ directory, which contains .md files of all your talks. This scrapes the location YAML field from each .md file, geolocates it with geopy/Nominatim, and uses the getorg library to output data, HTML, and Javascript for a standalone cluster map."
   ]
  },
  {
   "cell_type": "code",
   "execution_count": 1,
   "metadata": {
    "collapsed": false,
    "jupyter": {
     "outputs_hidden": false
    }
   },
   "outputs": [
    {
     "name": "stdout",
     "output_type": "stream",
     "text": [
      "IPywidgets and ipyleaflet support enabled.\n"
     ]
    }
   ],
   "source": [
    "# !pip install getorg --upgrade\n",
    "import glob\n",
    "import getorg\n",
    "from geopy import Nominatim\n",
    "import ipyleaflet"
   ]
  },
  {
   "cell_type": "code",
   "execution_count": 2,
   "metadata": {
    "collapsed": false,
    "jupyter": {
     "outputs_hidden": false
    }
   },
   "outputs": [],
   "source": [
    "g = glob.glob(\"_talks/*.md\")"
   ]
  },
  {
   "cell_type": "code",
   "execution_count": 3,
   "metadata": {},
   "outputs": [
    {
     "name": "stdout",
     "output_type": "stream",
     "text": [
      "Stockholm, Sweden \n",
      " Stockholm, Stockholms kommun, Stockholms län, 111 29, Sverige\n",
      "Athens, Greece \n",
      " Αθήνα, Δήμος Αθηναίων, Περιφερειακή Ενότητα Κεντρικού Τομέα Αθηνών, Περιφέρεια Αττικής, Αποκεντρωμένη Διοίκηση Αττικής, 104 31, Ελλάς\n",
      "Palma, Spain \n",
      " Palma, Illes Balears, España\n",
      "Paris, France \n",
      " Paris, Île-de-France, France métropolitaine, France\n",
      "The Hague, Netherlands \n",
      " Den Haag, Zuid-Holland, Nederland\n"
     ]
    }
   ],
   "source": [
    "geocoder = Nominatim(user_agent='academic_pages')\n",
    "location_dict = {}\n",
    "location = \"\"\n",
    "permalink = \"\"\n",
    "title = \"\"\n",
    "\n",
    "asgard = ['Stockholm, Sweden', 'Athens, Greece', 'Palma, Spain', 'Paris, France', 'The Hague, Netherlands']\n",
    "for c in asgard:\n",
    "    location_dict[c] = geocoder.geocode(c)\n",
    "    print(c, \"\\n\", location_dict[c])"
   ]
  },
  {
   "cell_type": "code",
   "execution_count": 4,
   "metadata": {
    "collapsed": false,
    "jupyter": {
     "outputs_hidden": false
    }
   },
   "outputs": [
    {
     "name": "stdout",
     "output_type": "stream",
     "text": [
      "skip\n",
      "Europe \n",
      " Ōu\n",
      "skip\n",
      "skip\n",
      "Dagstuhl, Germany \n",
      " Dagstuhl, Wadern, Landkreis Merzig-Wadern, Saarland, 66687, Deutschland\n",
      "Dartmouth College, Hanover, NH, USA \n",
      " Dartmouth College, West Wheelock Street, Hanover, Grafton County, New Hampshire, 03755, United States\n",
      "San Francisco, California, USA \n",
      " San Francisco, CAL Fire Northern Region, California, United States\n",
      "Genoa, Italy \n",
      " Genova, Liguria, Italia\n",
      "skip\n",
      "Padua, Italy \n",
      " Padova, Veneto, Italia\n",
      "Cambridge, MA, USA \n",
      " Cambridge, Middlesex County, Massachusetts, United States\n",
      "Cambridge, MA, USA \n",
      " Cambridge, Middlesex County, Massachusetts, United States\n",
      "Delft, Netherlands \n",
      " Delft, Zuid-Holland, Nederland\n",
      "Modena, Italy \n",
      " Modena, Emilia-Romagna, Italia\n"
     ]
    }
   ],
   "source": [
    "for file in g:\n",
    "    with open(file, 'r', encoding=\"utf8\") as f:\n",
    "        lines = f.read()\n",
    "        if lines.find('location: \"') > 1:\n",
    "            loc_start = lines.find('location: \"') + 11\n",
    "            lines_trim = lines[loc_start:]\n",
    "            loc_end = lines_trim.find('\"')\n",
    "            if (lines_trim[:loc_end] == \"Virtual\"):\n",
    "                print(\"skip\")\n",
    "                continue\n",
    "            location = lines_trim[:loc_end]\n",
    "            \n",
    "                            \n",
    "           \n",
    "        location_dict[location] = geocoder.geocode(location)\n",
    "        print(location, \"\\n\", location_dict[location])\n"
   ]
  },
  {
   "cell_type": "code",
   "execution_count": 5,
   "metadata": {
    "collapsed": false,
    "jupyter": {
     "outputs_hidden": false
    }
   },
   "outputs": [
    {
     "data": {
      "text/plain": "'Written map to ./talkmap/'"
     },
     "execution_count": 5,
     "metadata": {},
     "output_type": "execute_result"
    }
   ],
   "source": [
    "m = getorg.orgmap.create_map_obj()\n",
    "getorg.orgmap.output_html_cluster_map(location_dict, folder_name=\"./talkmap\", hashed_usernames=False)"
   ]
  },
  {
   "cell_type": "code",
   "execution_count": null,
   "metadata": {},
   "outputs": [],
   "source": []
  }
 ],
 "metadata": {
  "anaconda-cloud": {},
  "kernelspec": {
   "display_name": "Python 3",
   "language": "python",
   "name": "python3"
  },
  "language_info": {
   "codemirror_mode": {
    "name": "ipython",
    "version": 3
   },
   "file_extension": ".py",
   "mimetype": "text/x-python",
   "name": "python",
   "nbconvert_exporter": "python",
   "pygments_lexer": "ipython3",
   "version": "3.8.3"
  }
 },
 "nbformat": 4,
 "nbformat_minor": 4
}

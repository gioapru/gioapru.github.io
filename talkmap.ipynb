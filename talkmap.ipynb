{
 "cells": [
  {
   "cell_type": "markdown",
   "metadata": {},
   "source": [
    "# Leaflet cluster map of talk locations\n",
    "\n",
    "Run this from the _talks/ directory, which contains .md files of all your talks. This scrapes the location YAML field from each .md file, geolocates it with geopy/Nominatim, and uses the getorg library to output data, HTML, and Javascript for a standalone cluster map."
   ]
  },
  {
   "cell_type": "code",
   "metadata": {
    "collapsed": false
   },
   "source": [
    "# !pip install getorg --upgrade\n",
    "import glob\n",
    "import getorg\n",
    "from geopy import Nominatim\n",
    "import ipyleaflet"
   ],
   "outputs": [],
   "execution_count": null
  },
  {
   "cell_type": "code",
   "metadata": {
    "collapsed": false
   },
   "source": [
    "g = glob.glob(\"_talks/*.md\")"
   ],
   "outputs": [],
   "execution_count": null
  },
  {
   "cell_type": "code",
   "metadata": {},
   "source": [
    "geocoder = Nominatim(user_agent='academic_pages')\n",
    "location_dict = {}\n",
    "location = \"\"\n",
    "permalink = \"\"\n",
    "title = \"\"\n",
    "\n",
    "asgard = ['Stockholm, Sweden', 'Athens, Greece', 'Palma, Spain', 'Paris, France', 'The Hague, Netherlands']\n",
    "for c in asgard:\n",
    "    location_dict[c] = geocoder.geocode(c)\n",
    "    print(c, \"\\n\", location_dict[c])\n",
    "\n",
    "satml = ['Lausanne, Switzerland', 'Rennes, France']\n",
    "phishing = ['Padua, Italy', 'Modena, Italy', 'St. Gallen, Switzerland', 'Graz, Austria', 'Reykjavik, Iceland', 'Sophia Antipolis, France', 'Bologna, Italy']\n",
    "for c in satml:\n",
    "    location_dict[c] = geocoder.geocode(c)\n",
    "    print(c, \"\\n\", location_dict[c])\n",
    "for c in phishing:\n",
    "    location_dict[c] = geocoder.geocode(c)\n",
    "    print(c, \"\\n\", location_dict[c])"
   ],
   "outputs": [],
   "execution_count": null
  },
  {
   "cell_type": "code",
   "metadata": {
    "collapsed": false
   },
   "source": [
    "for file in g:\n",
    "    with open(file, 'r', encoding=\"utf8\") as f:\n",
    "        lines = f.read()\n",
    "        if lines.find('location: \"') > 1:\n",
    "            loc_start = lines.find('location: \"') + 11\n",
    "            lines_trim = lines[loc_start:]\n",
    "            loc_end = lines_trim.find('\"')\n",
    "            if (lines_trim[:loc_end] == \"Virtual\"):\n",
    "                print(\"skip\")\n",
    "                continue\n",
    "            location = lines_trim[:loc_end]\n",
    "            \n",
    "                            \n",
    "           \n",
    "        location_dict[location] = geocoder.geocode(location)\n",
    "        print(location, \"\\n\", location_dict[location])\n"
   ],
   "outputs": [],
   "execution_count": null
  },
  {
   "cell_type": "code",
   "metadata": {
    "collapsed": false
   },
   "source": [
    "m = getorg.orgmap.create_map_obj()\n",
    "getorg.orgmap.output_html_cluster_map(location_dict, folder_name=\"./talkmap\", hashed_usernames=False)"
   ],
   "outputs": [],
   "execution_count": null
  },
  {
   "cell_type": "code",
   "metadata": {},
   "source": [],
   "outputs": [],
   "execution_count": null
  }
 ],
 "metadata": {
  "anaconda-cloud": {},
  "kernelspec": {
   "display_name": "Python 3",
   "language": "python",
   "name": "python3"
  },
  "language_info": {
   "codemirror_mode": {
    "name": "ipython",
    "version": 3
   },
   "file_extension": ".py",
   "mimetype": "text/x-python",
   "name": "python",
   "nbconvert_exporter": "python",
   "pygments_lexer": "ipython3",
   "version": "3.8.3"
  }
 },
 "nbformat": 4,
 "nbformat_minor": 4
}

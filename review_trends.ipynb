{
 "cells": [
  {
   "cell_type": "code",
   "execution_count": 1,
   "metadata": {
    "collapsed": true
   },
   "outputs": [],
   "source": [
    "from odf import text, teletype\n",
    "from odf.opendocument import load\n",
    "from os import listdir\n",
    "from os.path import isfile, join\n",
    "import math, os, time\n",
    "import os\n",
    "import numpy as np"
   ]
  },
  {
   "cell_type": "code",
   "execution_count": 2,
   "outputs": [],
   "source": [
    "def get_lettersWords(allparas):\n",
    "    letters = 0\n",
    "    words = 0\n",
    "    for i in range(len(allparas)):\n",
    "        line = teletype.extractText(allparas[i])\n",
    "        letters += len(line)\n",
    "        temp_words = line.split(\" \")\n",
    "        words += len(temp_words)\n",
    "    return letters, words"
   ],
   "metadata": {
    "collapsed": false
   }
  },
  {
   "cell_type": "code",
   "execution_count": 3,
   "outputs": [],
   "source": [
    "# get all files\n",
    "\n",
    "root = r\"path\"\n",
    "onlyfiles = [f for f in listdir(root) if isfile(join(root, f))]\n",
    "only_odt = [f for f in onlyfiles if \".odt\" in f]\n",
    "only_md = [f for f in onlyfiles if \".md\" in f]\n",
    "tot_files = len(only_odt) + len(only_md)"
   ],
   "metadata": {
    "collapsed": false
   }
  },
  {
   "cell_type": "code",
   "execution_count": 4,
   "outputs": [],
   "source": [
    "only_odt_2018 = [f for f in only_odt if time.ctime(os.path.getmtime(root + f))[-4:] == \"2018\"]\n",
    "only_odt_2019 = [f for f in only_odt if time.ctime(os.path.getmtime(root + f))[-4:] == \"2019\"]\n",
    "only_odt_2020 = [f for f in only_odt if time.ctime(os.path.getmtime(root + f))[-4:] == \"2020\"]\n",
    "only_odt_2021 = [f for f in only_odt if time.ctime(os.path.getmtime(root + f))[-4:] == \"2021\"]\n",
    "only_odt_2022 = [f for f in only_odt if time.ctime(os.path.getmtime(root + f))[-4:] == \"2022\"]\n",
    "only_odt_2023 = [f for f in only_odt if time.ctime(os.path.getmtime(root + f))[-4:] == \"2023\"]\n",
    "\n",
    "only_md_2018 = [f for f in only_md if time.ctime(os.path.getmtime(root + f))[-4:] == \"2018\"]\n",
    "only_md_2019 = [f for f in only_md if time.ctime(os.path.getmtime(root + f))[-4:] == \"2019\"]\n",
    "only_md_2020 = [f for f in only_md if time.ctime(os.path.getmtime(root + f))[-4:] == \"2020\"]\n",
    "only_md_2021 = [f for f in only_md if time.ctime(os.path.getmtime(root + f))[-4:] == \"2021\"]\n",
    "only_md_2022 = [f for f in only_md if time.ctime(os.path.getmtime(root + f))[-4:] == \"2022\"]\n",
    "only_md_2023 = [f for f in only_md if time.ctime(os.path.getmtime(root + f))[-4:] == \"2023\"]"
   ],
   "metadata": {
    "collapsed": false
   }
  },
  {
   "cell_type": "code",
   "execution_count": 5,
   "outputs": [
    {
     "name": "stdout",
     "output_type": "stream",
     "text": [
      "Total files_2020: 25\n",
      "Total letters_2020: 128871\n",
      "Total words_2020: 20729\n",
      "Avg letters_2020: 5154.84\n",
      "Avg words_2020: 829.16\n",
      "Std words_2020: 286.00\n"
     ]
    }
   ],
   "source": [
    "letters_2020 = []\n",
    "words_2020 = []\n",
    "tot_files_2020 = len(only_odt_2020) + len(only_md_2020)\n",
    "\n",
    "for odt in only_odt_2020:\n",
    "    filename = root + odt\n",
    "    textdoc = load(filename)\n",
    "    allparas = textdoc.getElementsByType(text.P)\n",
    "    letters, words = get_lettersWords(allparas)\n",
    "    letters_2020.append(letters)\n",
    "    words_2020.append(words)\n",
    "\n",
    "for md in only_md_2020:\n",
    "    filename = root + md\n",
    "    file = open(filename, \"rt\", encoding=\"utf8\")\n",
    "    data = file.read()\n",
    "    words = data.split()\n",
    "    for word in words:\n",
    "        letters_2020.append(len(word))\n",
    "    #tot_letters += letters\n",
    "    words_2020.append(len(words))\n",
    "\n",
    "\n",
    "tot_letters_2020 = sum(letters_2020)\n",
    "avg_letters_2020 = tot_letters_2020 / tot_files_2020\n",
    "\n",
    "tot_words_2020 = sum(words_2020)\n",
    "avg_words_2020 = np.mean(words_2020)\n",
    "std_words_2020 = np.std(words_2020)\n",
    "\n",
    "print(\"Total files_2020: {}\".format(tot_files_2020))\n",
    "\n",
    "print(\"Total letters_2020: {}\".format(tot_letters_2020))\n",
    "print(\"Total words_2020: {}\".format(tot_words_2020))\n",
    "\n",
    "print(\"Avg letters_2020: {:.2f}\".format(avg_letters_2020))\n",
    "print(\"Avg words_2020: {:.2f}\".format(avg_words_2020))\n",
    "\n",
    "print(\"Std words_2020: {:.2f}\".format(std_words_2020))"
   ],
   "metadata": {
    "collapsed": false
   }
  },
  {
   "cell_type": "code",
   "execution_count": 6,
   "outputs": [
    {
     "name": "stdout",
     "output_type": "stream",
     "text": [
      "Total files_2021: 66\n",
      "Total letters_2021: 345153\n",
      "Total words_2021: 55578\n",
      "Avg letters_2021: 5229.59\n",
      "Avg words_2021: 842.09\n",
      "Std words_2021: 472.15\n"
     ]
    }
   ],
   "source": [
    "letters_2021 = []\n",
    "words_2021 = []\n",
    "tot_files_2021 = len(only_odt_2021) + len(only_md_2021)\n",
    "\n",
    "for odt in only_odt_2021:\n",
    "    filename = root + odt\n",
    "    textdoc = load(filename)\n",
    "    allparas = textdoc.getElementsByType(text.P)\n",
    "    letters, words = get_lettersWords(allparas)\n",
    "    letters_2021.append(letters)\n",
    "    words_2021.append(words)\n",
    "\n",
    "for md in only_md_2021:\n",
    "    filename = root + md\n",
    "    file = open(filename, \"rt\", encoding=\"utf8\")\n",
    "    data = file.read()\n",
    "    words = data.split()\n",
    "    for word in words:\n",
    "        letters_2021.append(len(word))\n",
    "    #tot_letters += letters\n",
    "    words_2021.append(len(words))\n",
    "\n",
    "\n",
    "tot_letters_2021 = sum(letters_2021)\n",
    "avg_letters_2021 = tot_letters_2021 / tot_files_2021\n",
    "\n",
    "tot_words_2021 = sum(words_2021)\n",
    "avg_words_2021 = np.mean(words_2021)\n",
    "std_words_2021 = np.std(words_2021)\n",
    "\n",
    "print(\"Total files_2021: {}\".format(tot_files_2021))\n",
    "\n",
    "print(\"Total letters_2021: {}\".format(tot_letters_2021))\n",
    "print(\"Total words_2021: {}\".format(tot_words_2021))\n",
    "\n",
    "print(\"Avg letters_2021: {:.2f}\".format(avg_letters_2021))\n",
    "print(\"Avg words_2021: {:.2f}\".format(avg_words_2021))\n",
    "\n",
    "print(\"Std words_2021: {:.2f}\".format(std_words_2021))"
   ],
   "metadata": {
    "collapsed": false
   }
  },
  {
   "cell_type": "code",
   "execution_count": 7,
   "outputs": [
    {
     "name": "stdout",
     "output_type": "stream",
     "text": [
      "Total files_2022: 134\n",
      "Total letters_2022: 1250799\n",
      "Total words_2022: 208485\n",
      "Avg letters_2022: 9334.32\n",
      "Avg words_2022: 1555.86\n",
      "Std words_2022: 918.42\n"
     ]
    }
   ],
   "source": [
    "letters_2022 = []\n",
    "words_2022 = []\n",
    "tot_files_2022 = len(only_odt_2022) + len(only_md_2022)\n",
    "\n",
    "for odt in only_odt_2022:\n",
    "    filename = root + odt\n",
    "    textdoc = load(filename)\n",
    "    allparas = textdoc.getElementsByType(text.P)\n",
    "    letters, words = get_lettersWords(allparas)\n",
    "    letters_2022.append(letters)\n",
    "    words_2022.append(words)\n",
    "\n",
    "for md in only_md_2022:\n",
    "    filename = root + md\n",
    "    file = open(filename, \"rt\", encoding=\"utf8\")\n",
    "    data = file.read()\n",
    "    words = data.split()\n",
    "    for word in words:\n",
    "        letters_2022.append(len(word))\n",
    "    #tot_letters += letters\n",
    "    words_2022.append(len(words))\n",
    "\n",
    "\n",
    "tot_letters_2022 = sum(letters_2022)\n",
    "avg_letters_2022 = tot_letters_2022 / tot_files_2022\n",
    "\n",
    "tot_words_2022 = sum(words_2022)\n",
    "avg_words_2022 = np.mean(words_2022)\n",
    "std_words_2022 = np.std(words_2022)\n",
    "\n",
    "print(\"Total files_2022: {}\".format(tot_files_2022))\n",
    "\n",
    "print(\"Total letters_2022: {}\".format(tot_letters_2022))\n",
    "print(\"Total words_2022: {}\".format(tot_words_2022))\n",
    "\n",
    "print(\"Avg letters_2022: {:.2f}\".format(avg_letters_2022))\n",
    "print(\"Avg words_2022: {:.2f}\".format(avg_words_2022))\n",
    "\n",
    "print(\"Std words_2022: {:.2f}\".format(std_words_2022))"
   ],
   "metadata": {
    "collapsed": false
   }
  },
  {
   "cell_type": "code",
   "execution_count": 8,
   "outputs": [
    {
     "name": "stdout",
     "output_type": "stream",
     "text": [
      "Total files_2023: 9\n",
      "Total letters_2023: 91443\n",
      "Total words_2023: 17509\n",
      "Avg letters_2023: 10160.33\n",
      "Avg words_2023: 1945.44\n",
      "Std words_2023: 986.29\n"
     ]
    }
   ],
   "source": [
    "letters_2023 = []\n",
    "words_2023 = []\n",
    "tot_files_2023 = len(only_odt_2023) + len(only_md_2023)\n",
    "\n",
    "for odt in only_odt_2023:\n",
    "    filename = root + odt\n",
    "    textdoc = load(filename)\n",
    "    allparas = textdoc.getElementsByType(text.P)\n",
    "    letters, words = get_lettersWords(allparas)\n",
    "    letters_2023.append(letters)\n",
    "    words_2023.append(words)\n",
    "\n",
    "for md in only_md_2023:\n",
    "    filename = root + md\n",
    "    file = open(filename, \"rt\", encoding=\"utf8\")\n",
    "    data = file.read()\n",
    "    words = data.split()\n",
    "    for word in words:\n",
    "        letters_2023.append(len(word))\n",
    "    #tot_letters += letters\n",
    "    words_2023.append(len(words))\n",
    "\n",
    "\n",
    "tot_letters_2023 = sum(letters_2023)\n",
    "avg_letters_2023 = tot_letters_2023 / tot_files_2023\n",
    "\n",
    "tot_words_2023 = sum(words_2023)\n",
    "avg_words_2023 = np.mean(words_2023)\n",
    "std_words_2023 = np.std(words_2023)\n",
    "\n",
    "print(\"Total files_2023: {}\".format(tot_files_2023))\n",
    "\n",
    "print(\"Total letters_2023: {}\".format(tot_letters_2023))\n",
    "print(\"Total words_2023: {}\".format(tot_words_2023))\n",
    "\n",
    "print(\"Avg letters_2023: {:.2f}\".format(avg_letters_2023))\n",
    "print(\"Avg words_2023: {:.2f}\".format(avg_words_2023))\n",
    "\n",
    "print(\"Std words_2023: {:.2f}\".format(std_words_2023))"
   ],
   "metadata": {
    "collapsed": false
   }
  },
  {
   "cell_type": "code",
   "execution_count": 9,
   "outputs": [
    {
     "name": "stdout",
     "output_type": "stream",
     "text": [
      "Total files_all: 234\n",
      "Total letters_all: 1816266\n",
      "Total words_all: 302301\n",
      "Avg letters_all: 7761.82\n",
      "Avg words_all: 1291.88\n",
      "Std words_all: 853.42\n"
     ]
    }
   ],
   "source": [
    "letters_all = []\n",
    "words_all = []\n",
    "tot_files_all = len(only_odt) + len(only_md)\n",
    "\n",
    "for odt in only_odt:\n",
    "    filename = root + odt\n",
    "    textdoc = load(filename)\n",
    "    allparas = textdoc.getElementsByType(text.P)\n",
    "    letters, words = get_lettersWords(allparas)\n",
    "    letters_all.append(letters)\n",
    "    words_all.append(words)\n",
    "\n",
    "for md in only_md:\n",
    "    filename = root + md\n",
    "    file = open(filename, \"rt\", encoding=\"utf8\")\n",
    "    data = file.read()\n",
    "    words = data.split()\n",
    "    for word in words:\n",
    "        letters_all.append(len(word))\n",
    "    #tot_letters += letters\n",
    "    words_all.append(len(words))\n",
    "\n",
    "\n",
    "tot_letters_all = sum(letters_all)\n",
    "avg_letters_all = tot_letters_all / tot_files_all\n",
    "\n",
    "tot_words_all = sum(words_all)\n",
    "avg_words_all = np.mean(words_all)\n",
    "std_words_all = np.std(words_all)\n",
    "\n",
    "print(\"Total files_all: {}\".format(tot_files_all))\n",
    "\n",
    "print(\"Total letters_all: {}\".format(tot_letters_all))\n",
    "print(\"Total words_all: {}\".format(tot_words_all))\n",
    "\n",
    "print(\"Avg letters_all: {:.2f}\".format(avg_letters_all))\n",
    "print(\"Avg words_all: {:.2f}\".format(avg_words_all))\n",
    "\n",
    "print(\"Std words_all: {:.2f}\".format(std_words_all))"
   ],
   "metadata": {
    "collapsed": false
   }
  },
  {
   "cell_type": "code",
   "execution_count": 10,
   "outputs": [],
   "source": [
    "import seaborn as sns\n",
    "import numpy as np\n",
    "import matplotlib.pyplot as plt\n",
    "import pandas as pd"
   ],
   "metadata": {
    "collapsed": false
   }
  },
  {
   "cell_type": "code",
   "execution_count": 11,
   "outputs": [],
   "source": [
    "# wrangling\n",
    "df_2020 = pd.DataFrame({'words' : words_2020})\n",
    "df_2021 = pd.DataFrame({'words' : words_2021})\n",
    "df_2022 = pd.DataFrame({'words' : words_2022})\n",
    "df_2023 = pd.DataFrame({'words' : words_2023})\n",
    "\n",
    "cdf = pd.DataFrame({'2020': df_2020['words'],\n",
    "                    '2021': df_2021['words'],\n",
    "                    '2022': df_2022['words'],\n",
    "                    '2023': df_2023['words']})"
   ],
   "metadata": {
    "collapsed": false
   }
  },
  {
   "cell_type": "code",
   "execution_count": 22,
   "outputs": [
    {
     "data": {
      "text/plain": "<Figure size 640x480 with 1 Axes>",
      "image/png": "[encoded data removed]"
     },
     "metadata": {},
     "output_type": "display_data"
    }
   ],
   "source": [
    "# PLotting word distribution per review (yearly)\n",
    "\n",
    "sns.boxplot(\n",
    "    data=cdf,\n",
    "    showcaps=True,\n",
    "    flierprops={\"marker\": \"x\"},\n",
    "    boxprops={\"facecolor\": (.4, .6, .8, .5)},\n",
    "    medianprops={\"color\": \"coral\"},\n",
    "    showmeans=True\n",
    ").set(ylabel=\"words\", xlabel=\"year\", title=\"word distribution per review (yearly)\")\n",
    "\n",
    "plt.tight_layout\n",
    "plt.savefig(\"images/word_boxplots.png\", dpi=300)\n",
    "plt.show()"
   ],
   "metadata": {
    "collapsed": false
   }
  },
  {
   "cell_type": "code",
   "execution_count": 21,
   "outputs": [
    {
     "data": {
      "text/plain": "<Figure size 640x480 with 1 Axes>",
      "image/png": "[encoded data removed]"
     },
     "metadata": {},
     "output_type": "display_data"
    }
   ],
   "source": [
    "# Plotting reviews per year\n",
    "\n",
    "tot_files = [tot_files_2020, tot_files_2021, tot_files_2022, tot_files_2023]\n",
    "\n",
    "N = len(tot_files)\n",
    "\n",
    "ind = np.arange(N)  # the x locations for the groups\n",
    "width = 0.55       # the width of the bars\n",
    "\n",
    "fig, ax = plt.subplots()\n",
    "rects1 = ax.bar(ind, tot_files, width, color='forestgreen', alpha=0.8)\n",
    "\n",
    "# add some text for labels, title and axes ticks\n",
    "ax.set_ylabel('reviews')\n",
    "ax.set_xlabel('year')\n",
    "ax.set_title('Reviews per year')\n",
    "ax.set_xticks(ind)\n",
    "ax.set_xticklabels(('2020', '2021', '2022', '2023'))\n",
    "\n",
    "\n",
    "\n",
    "def autolabel(rects):\n",
    "    \"\"\"\n",
    "    Attach a text label above each bar displaying its height\n",
    "    \"\"\"\n",
    "    for rect in rects:\n",
    "        height = rect.get_height()\n",
    "        ax.text(rect.get_x() + rect.get_width()/2., 1.01*height,\n",
    "                '%d' % int(height),\n",
    "                ha='center', va='bottom')\n",
    "\n",
    "autolabel(rects1)\n",
    "\n",
    "plt.tight_layout\n",
    "plt.savefig(\"images/yearly_reviews.png\", dpi=300)\n",
    "plt.show()"
   ],
   "metadata": {
    "collapsed": false
   }
  },
  {
   "cell_type": "code",
   "execution_count": null,
   "outputs": [],
   "source": [],
   "metadata": {
    "collapsed": false
   }
  }
 ],
 "metadata": {
  "kernelspec": {
   "display_name": "Python 3",
   "language": "python",
   "name": "python3"
  },
  "language_info": {
   "codemirror_mode": {
    "name": "ipython",
    "version": 2
   },
   "file_extension": ".py",
   "mimetype": "text/x-python",
   "name": "python",
   "nbconvert_exporter": "python",
   "pygments_lexer": "ipython2",
   "version": "2.7.6"
  }
 },
 "nbformat": 4,
 "nbformat_minor": 0
}
